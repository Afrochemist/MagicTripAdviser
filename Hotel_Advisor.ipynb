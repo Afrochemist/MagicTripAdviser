{
  "nbformat": 4,
  "nbformat_minor": 0,
  "metadata": {
    "colab": {
      "name": "Hotel Advisor.ipynb",
      "provenance": [],
      "machine_shape": "hm",
      "include_colab_link": true
    },
    "kernelspec": {
      "name": "python3",
      "display_name": "Python 3"
    },
    "accelerator": "GPU"
  },
  "cells": [
    {
      "cell_type": "markdown",
      "metadata": {
        "id": "view-in-github",
        "colab_type": "text"
      },
      "source": [
        "<a href=\"https://colab.research.google.com/github/Afrochemist/MagicTripAdviser/blob/master/Hotel_Advisor.ipynb\" target=\"_parent\"><img src=\"https://colab.research.google.com/assets/colab-badge.svg\" alt=\"Open In Colab\"/></a>"
      ]
    },
    {
      "cell_type": "code",
      "metadata": {
        "id": "t645Lfs35rSQ",
        "colab_type": "code",
        "colab": {}
      },
      "source": [
        "import time\n",
        "start = time.time()\n",
        "\n",
        "# Import modules\n",
        "import pandas as pd\n",
        "from scipy import sparse\n",
        "from sklearn.feature_extraction.text import TfidfVectorizer, CountVectorizer\n",
        "from sklearn.ensemble import RandomForestClassifier\n",
        "from sklearn.model_selection import train_test_split\n",
        "from sklearn.metrics import accuracy_score, confusion_matrix\n",
        "import re\n",
        "import pickle\n",
        "\n"
      ],
      "execution_count": 0,
      "outputs": []
    },
    {
      "cell_type": "code",
      "metadata": {
        "id": "7OA2s6OT5Yaq",
        "colab_type": "code",
        "outputId": "ac35e439-a906-4455-b0e7-310bdfb5f072",
        "colab": {
          "base_uri": "https://localhost:8080/",
          "height": 34
        }
      },
      "source": [
        "# Mount the Drive in Google Colab\n",
        "# Remove this code if not in Google Colab\n",
        "from google.colab import drive\n",
        "drive.mount(\"/content/drive\", force_remount=True)"
      ],
      "execution_count": 7,
      "outputs": [
        {
          "output_type": "stream",
          "text": [
            "Mounted at /content/drive\n"
          ],
          "name": "stdout"
        }
      ]
    },
    {
      "cell_type": "code",
      "metadata": {
        "id": "xFvj2Pwm5qZu",
        "colab_type": "code",
        "colab": {}
      },
      "source": [
        "# Create filepath variable for data location in google drive.\n",
        "#filepath = '/content/drive/My Drive/ML Data/Final Project/'\n",
        "\n",
        "#data_dir =  '/content/drive/My Drive/ML Data/Final Project/Datafiniti_Hotel_Reviews_Jun19.csv'\n",
        "#data_dir_2 = '/content/drive/My Drive/ML Data/Final Project/7282_1.csv'"
      ],
      "execution_count": 0,
      "outputs": []
    },
    {
      "cell_type": "code",
      "metadata": {
        "id": "2wajoHtm5rUx",
        "colab_type": "code",
        "colab": {}
      },
      "source": [
        "# Read in the data\n",
        "df = pd.read_csv('/content/drive/My Drive/ML Data/Final Project/7282_1.csv')\n",
        "df2 = pd.read_csv('/content/drive/My Drive/ML Data/Final Project/Datafiniti_Hotel_Reviews_Jun19.csv')\n",
        "\n",
        "# Important columns. City, Country, and Province columns are excluded because they are not reliable\n",
        "imp_col_list = ['address', 'name', 'reviews.date', 'reviews.text','reviews.title']\n",
        "df = df.loc[:,imp_col_list]\n",
        "df2 = df2.loc[:,imp_col_list]\n",
        "df= df.append(df2)\n",
        "\n"
      ],
      "execution_count": 0,
      "outputs": []
    },
    {
      "cell_type": "code",
      "metadata": {
        "id": "lCw-ZUk25rXN",
        "colab_type": "code",
        "colab": {}
      },
      "source": [
        "# Prep text, add some columns and fillna, and rename columns\n",
        "df['reviews.text'] = df['reviews.text'].str.lower()\n",
        "df['reviews.text'] = df['reviews.text'].replace(to_replace='[^A-Za-z0-9]+', regex=True, value=' ')\n",
        "df['reviews.text'] = df['reviews.text'].fillna('')\n",
        "df['review_date'] = pd.to_datetime(df['reviews.date']).dt.date\n",
        "df['review_month'] = pd.to_datetime(df['reviews.date']).dt.month\n",
        "df['words_in_review'] = [len(i.split()) for i in df['reviews.text']]\n",
        "season_dict = {1:'Winter',2:'Winter',3:'Spring',4:'Spring',5:'Spring',6:'Summer',\n",
        "               7:'Summer',8:'Summer',9:'Fall',10:'Fall',11:'Fall',12:'Winter'}\n",
        "df['review_season'] = df['review_month'].map(season_dict).fillna('Summer')\n",
        "df.rename(columns={'address': 'hotel_address', 'city': 'hotel_city','country':'hotel_country', \n",
        "                   'name':'hotel_name'},inplace=True)\n"
      ],
      "execution_count": 0,
      "outputs": []
    },
    {
      "cell_type": "code",
      "metadata": {
        "id": "ovmXP3OhAJFO",
        "colab_type": "code",
        "colab": {}
      },
      "source": [
        "vectorizer = CountVectorizer(max_features=5000, stop_words='english', ngram_range=(1, 1))"
      ],
      "execution_count": 0,
      "outputs": []
    },
    {
      "cell_type": "code",
      "metadata": {
        "id": "o0dWpTWAAV5U",
        "colab_type": "code",
        "colab": {}
      },
      "source": [
        "# Vectorize the reviews to transform sentences into columns.\n",
        "X = vectorizer.fit_transform(df['reviews.text'])\n",
        "\n",
        "# And then put all of that in a new dataframe.\n",
        "bag_of_words = pd.DataFrame(X.toarray(), columns=vectorizer.get_feature_names())\n",
        "\n",
        "full_df = df.join(bag_of_words)"
      ],
      "execution_count": 0,
      "outputs": []
    },
    {
      "cell_type": "code",
      "metadata": {
        "id": "oi85ldhCAoEu",
        "colab_type": "code",
        "colab": {
          "base_uri": "https://localhost:8080/",
          "height": 68
        },
        "outputId": "cb66f3b0-3c2a-469a-ed0d-8d8b0e6d60d4"
      },
      "source": [
        "# Create the Model\n",
        "\n",
        "\n",
        "# X is the list of features. In this case, it's the bag of words. \n",
        "X = bag_of_words\n",
        "\n",
        "# y the target\n",
        "y = df['hotel_name']\n",
        "\n",
        "X_train, X_test, y_train, y_test = train_test_split(X, y, test_size=0.20, random_state=30)\n",
        "\n",
        "\n",
        "# Import the random forest model classifier.\n",
        "from sklearn.ensemble import RandomForestClassifier\n",
        "clf = RandomForestClassifier(min_samples_leaf=10, random_state=8675309)\n",
        "\n",
        "import time\n",
        "start = time.time()\n",
        "# Fit the model to the data.\n",
        "clf.fit(X_train,y_train)\n",
        "y_pred = clf.predict(X_test)\n",
        "\n",
        "print(\"Accuracy score: \",round((accuracy_score(y_test, y_pred)*100),2), \"%\")"
      ],
      "execution_count": 13,
      "outputs": [
        {
          "output_type": "stream",
          "text": [
            "/usr/local/lib/python3.6/dist-packages/sklearn/ensemble/forest.py:245: FutureWarning: The default value of n_estimators will change from 10 in version 0.20 to 100 in 0.22.\n",
            "  \"10 in version 0.20 to 100 in 0.22.\", FutureWarning)\n"
          ],
          "name": "stderr"
        },
        {
          "output_type": "stream",
          "text": [
            "Accuracy score:  17.5 %\n"
          ],
          "name": "stdout"
        }
      ]
    },
    {
      "cell_type": "code",
      "metadata": {
        "id": "blED4-1UA8wb",
        "colab_type": "code",
        "colab": {
          "base_uri": "https://localhost:8080/",
          "height": 514
        },
        "outputId": "dec8b1b7-6c63-4041-e5ed-21cb72972cda"
      },
      "source": [
        "test_review = 'I loved the beach, the nearby bars, the live music, and the walkable neighborhood. The weather was great and it was sunny.'\n",
        "\n",
        "\n",
        "test_review = test_review.lower()\n",
        "test_review = re.sub('[^A-Za-z0-9]+', ' ', test_review)\n",
        "test_review = [test_review]\n",
        "\n",
        "# Convert your test review into a vector.\n",
        "X_test = vectorizer.transform(test_review).toarray()\n",
        "\n",
        "# Make a prediction of which hotel your review would be a review:\n",
        "prediction = clf.predict(X_test)[0]\n",
        "\n",
        "# Return the essential information about your match. Note the head() option. You can set it to 1 to only\n",
        "# get back the hotel information, but this also includes the review date information. This is because\n",
        "# it tells you what time of year this place is most often visited. If you search this result, you'll see\n",
        "# \"Inn & Suites 2540 S Mccall Rd\" is a hotel in Florida. It's most often visited in Winter, which makes \n",
        "# sense because people are likely to visit Florida when the weather is bad elsewhere.\n",
        "df[df['hotel_name'] == prediction][['hotel_name', 'hotel_address', 'review_date','review_month','review_season']].head(15)"
      ],
      "execution_count": 14,
      "outputs": [
        {
          "output_type": "execute_result",
          "data": {
            "text/html": [
              "<div>\n",
              "<style scoped>\n",
              "    .dataframe tbody tr th:only-of-type {\n",
              "        vertical-align: middle;\n",
              "    }\n",
              "\n",
              "    .dataframe tbody tr th {\n",
              "        vertical-align: top;\n",
              "    }\n",
              "\n",
              "    .dataframe thead th {\n",
              "        text-align: right;\n",
              "    }\n",
              "</style>\n",
              "<table border=\"1\" class=\"dataframe\">\n",
              "  <thead>\n",
              "    <tr style=\"text-align: right;\">\n",
              "      <th></th>\n",
              "      <th>hotel_name</th>\n",
              "      <th>hotel_address</th>\n",
              "      <th>review_date</th>\n",
              "      <th>review_month</th>\n",
              "      <th>review_season</th>\n",
              "    </tr>\n",
              "  </thead>\n",
              "  <tbody>\n",
              "    <tr>\n",
              "      <th>26765</th>\n",
              "      <td>Hampton Inn Virginia Beach Oceanfront North</td>\n",
              "      <td>3107 Atlantic Ave</td>\n",
              "      <td>2017-04-06</td>\n",
              "      <td>4.0</td>\n",
              "      <td>Spring</td>\n",
              "    </tr>\n",
              "    <tr>\n",
              "      <th>26766</th>\n",
              "      <td>Hampton Inn Virginia Beach Oceanfront North</td>\n",
              "      <td>3107 Atlantic Ave</td>\n",
              "      <td>2017-02-14</td>\n",
              "      <td>2.0</td>\n",
              "      <td>Winter</td>\n",
              "    </tr>\n",
              "    <tr>\n",
              "      <th>26767</th>\n",
              "      <td>Hampton Inn Virginia Beach Oceanfront North</td>\n",
              "      <td>3107 Atlantic Ave</td>\n",
              "      <td>2017-03-16</td>\n",
              "      <td>3.0</td>\n",
              "      <td>Spring</td>\n",
              "    </tr>\n",
              "    <tr>\n",
              "      <th>26768</th>\n",
              "      <td>Hampton Inn Virginia Beach Oceanfront North</td>\n",
              "      <td>3107 Atlantic Ave</td>\n",
              "      <td>2017-03-18</td>\n",
              "      <td>3.0</td>\n",
              "      <td>Spring</td>\n",
              "    </tr>\n",
              "    <tr>\n",
              "      <th>26769</th>\n",
              "      <td>Hampton Inn Virginia Beach Oceanfront North</td>\n",
              "      <td>3107 Atlantic Ave</td>\n",
              "      <td>2017-04-09</td>\n",
              "      <td>4.0</td>\n",
              "      <td>Spring</td>\n",
              "    </tr>\n",
              "    <tr>\n",
              "      <th>26770</th>\n",
              "      <td>Hampton Inn Virginia Beach Oceanfront North</td>\n",
              "      <td>3107 Atlantic Ave</td>\n",
              "      <td>2017-04-06</td>\n",
              "      <td>4.0</td>\n",
              "      <td>Spring</td>\n",
              "    </tr>\n",
              "    <tr>\n",
              "      <th>26771</th>\n",
              "      <td>Hampton Inn Virginia Beach Oceanfront North</td>\n",
              "      <td>3107 Atlantic Ave</td>\n",
              "      <td>2017-03-20</td>\n",
              "      <td>3.0</td>\n",
              "      <td>Spring</td>\n",
              "    </tr>\n",
              "    <tr>\n",
              "      <th>26772</th>\n",
              "      <td>Hampton Inn Virginia Beach Oceanfront North</td>\n",
              "      <td>3107 Atlantic Ave</td>\n",
              "      <td>2017-04-07</td>\n",
              "      <td>4.0</td>\n",
              "      <td>Spring</td>\n",
              "    </tr>\n",
              "    <tr>\n",
              "      <th>26773</th>\n",
              "      <td>Hampton Inn Virginia Beach Oceanfront North</td>\n",
              "      <td>3107 Atlantic Ave</td>\n",
              "      <td>2011-12-14</td>\n",
              "      <td>12.0</td>\n",
              "      <td>Winter</td>\n",
              "    </tr>\n",
              "    <tr>\n",
              "      <th>26774</th>\n",
              "      <td>Hampton Inn Virginia Beach Oceanfront North</td>\n",
              "      <td>3107 Atlantic Ave</td>\n",
              "      <td>2017-02-17</td>\n",
              "      <td>2.0</td>\n",
              "      <td>Winter</td>\n",
              "    </tr>\n",
              "    <tr>\n",
              "      <th>26775</th>\n",
              "      <td>Hampton Inn Virginia Beach Oceanfront North</td>\n",
              "      <td>3107 Atlantic Ave</td>\n",
              "      <td>2017-04-07</td>\n",
              "      <td>4.0</td>\n",
              "      <td>Spring</td>\n",
              "    </tr>\n",
              "    <tr>\n",
              "      <th>26776</th>\n",
              "      <td>Hampton Inn Virginia Beach Oceanfront North</td>\n",
              "      <td>3107 Atlantic Ave</td>\n",
              "      <td>2013-02-16</td>\n",
              "      <td>2.0</td>\n",
              "      <td>Winter</td>\n",
              "    </tr>\n",
              "    <tr>\n",
              "      <th>26777</th>\n",
              "      <td>Hampton Inn Virginia Beach Oceanfront North</td>\n",
              "      <td>3107 Atlantic Ave</td>\n",
              "      <td>2017-02-13</td>\n",
              "      <td>2.0</td>\n",
              "      <td>Winter</td>\n",
              "    </tr>\n",
              "    <tr>\n",
              "      <th>26778</th>\n",
              "      <td>Hampton Inn Virginia Beach Oceanfront North</td>\n",
              "      <td>3107 Atlantic Ave</td>\n",
              "      <td>2013-09-26</td>\n",
              "      <td>9.0</td>\n",
              "      <td>Fall</td>\n",
              "    </tr>\n",
              "    <tr>\n",
              "      <th>26779</th>\n",
              "      <td>Hampton Inn Virginia Beach Oceanfront North</td>\n",
              "      <td>3107 Atlantic Ave</td>\n",
              "      <td>2017-03-21</td>\n",
              "      <td>3.0</td>\n",
              "      <td>Spring</td>\n",
              "    </tr>\n",
              "  </tbody>\n",
              "</table>\n",
              "</div>"
            ],
            "text/plain": [
              "                                        hotel_name  ... review_season\n",
              "26765  Hampton Inn Virginia Beach Oceanfront North  ...        Spring\n",
              "26766  Hampton Inn Virginia Beach Oceanfront North  ...        Winter\n",
              "26767  Hampton Inn Virginia Beach Oceanfront North  ...        Spring\n",
              "26768  Hampton Inn Virginia Beach Oceanfront North  ...        Spring\n",
              "26769  Hampton Inn Virginia Beach Oceanfront North  ...        Spring\n",
              "26770  Hampton Inn Virginia Beach Oceanfront North  ...        Spring\n",
              "26771  Hampton Inn Virginia Beach Oceanfront North  ...        Spring\n",
              "26772  Hampton Inn Virginia Beach Oceanfront North  ...        Spring\n",
              "26773  Hampton Inn Virginia Beach Oceanfront North  ...        Winter\n",
              "26774  Hampton Inn Virginia Beach Oceanfront North  ...        Winter\n",
              "26775  Hampton Inn Virginia Beach Oceanfront North  ...        Spring\n",
              "26776  Hampton Inn Virginia Beach Oceanfront North  ...        Winter\n",
              "26777  Hampton Inn Virginia Beach Oceanfront North  ...        Winter\n",
              "26778  Hampton Inn Virginia Beach Oceanfront North  ...          Fall\n",
              "26779  Hampton Inn Virginia Beach Oceanfront North  ...        Spring\n",
              "\n",
              "[15 rows x 5 columns]"
            ]
          },
          "metadata": {
            "tags": []
          },
          "execution_count": 14
        }
      ]
    },
    {
      "cell_type": "code",
      "metadata": {
        "id": "w9DFfS5fBNxN",
        "colab_type": "code",
        "colab": {
          "base_uri": "https://localhost:8080/",
          "height": 34
        },
        "outputId": "9a3bd7e7-4e6e-4f3e-832e-393425eb130e"
      },
      "source": [
        "# Initialize a vectorizer\n",
        "vectorizer = TfidfVectorizer(max_features=None, stop_words='english', ngram_range=(1, 3))\n",
        "\n",
        "# Vectorize the reviews to transform sentences into columns\n",
        "X = vectorizer.fit_transform(df['reviews.text'])\n",
        "\n",
        "\n",
        "print(X.shape)"
      ],
      "execution_count": 16,
      "outputs": [
        {
          "output_type": "stream",
          "text": [
            "(45912, 1621788)\n"
          ],
          "name": "stdout"
        }
      ]
    },
    {
      "cell_type": "code",
      "metadata": {
        "id": "Usd78tQzBZfS",
        "colab_type": "code",
        "colab": {}
      },
      "source": [
        "# Create a vocab and bag of words with the most popular words\n",
        "keep_cols = X.mean(axis=0)*100\n",
        "keep_cols = pd.DataFrame(keep_cols, columns=vectorizer.get_feature_names())"
      ],
      "execution_count": 0,
      "outputs": []
    },
    {
      "cell_type": "code",
      "metadata": {
        "id": "Zs_qH5xVBfAp",
        "colab_type": "code",
        "colab": {}
      },
      "source": [
        "keep_cols = keep_cols.transpose().reset_index().rename(columns={'index':'feature',0:'freq'})\n",
        "keep_cols = keep_cols.reset_index().sort_values('freq')"
      ],
      "execution_count": 0,
      "outputs": []
    },
    {
      "cell_type": "code",
      "metadata": {
        "id": "3oQks3wEBivN",
        "colab_type": "code",
        "colab": {
          "base_uri": "https://localhost:8080/",
          "height": 34
        },
        "outputId": "10ad8d7c-aba4-4efc-c90f-3888ec8eee63"
      },
      "source": [
        "# Note I'm increasing the threshold because I added the 10,000 updated reviews\n",
        "threshold = 0.00450472037\n",
        "keep_cols = keep_cols.loc[keep_cols['freq'] > threshold]\n",
        "X = sparse.csc_matrix(X)\n",
        "keep_list = keep_cols['index'].tolist()\n",
        "vocab = keep_cols['feature'].tolist()\n",
        "X = X[:,keep_list]\n",
        "bag_of_words = pd.DataFrame(X.toarray(), columns=(vocab))\n",
        "bag_of_words.shape"
      ],
      "execution_count": 19,
      "outputs": [
        {
          "output_type": "execute_result",
          "data": {
            "text/plain": [
              "(45912, 10903)"
            ]
          },
          "metadata": {
            "tags": []
          },
          "execution_count": 19
        }
      ]
    },
    {
      "cell_type": "code",
      "metadata": {
        "id": "jNfuNKUFBoEH",
        "colab_type": "code",
        "colab": {
          "base_uri": "https://localhost:8080/",
          "height": 221
        },
        "outputId": "cb9f51dc-20b9-4100-f7b0-bd8d0e2eadc5"
      },
      "source": [
        "# Seasonal Classifier\n",
        "df_s = df.reset_index(drop=True)\n",
        "df_s = df_s.reset_index(drop=False)\n",
        "df_s['review_season'].value_counts()\n",
        "\n",
        "df_s1 = df_s.loc[df_s['review_season'] == 'Spring']\n",
        "df_s2 = df_s.loc[df_s['review_season'] == 'Summer']\n",
        "df_s3 = df_s.loc[df_s['review_season'] == 'Fall']\n",
        "df_s4 = df_s.loc[df_s['review_season'] == 'Winter']\n",
        "df_s1.shape, df_s2.shape, df_s3.shape, df_s4.shape\n",
        "\n",
        "l_s1 = df_s1['index'].tolist()\n",
        "l_s2 = df_s2['index'].tolist()\n",
        "l_s3 = df_s3['index'].tolist()\n",
        "l_s4 = df_s4['index'].tolist()\n",
        "len(l_s1),len(l_s2),len(l_s3),len(l_s4), len(l_s1)+len(l_s2)+len(l_s3)+len(l_s4)\n",
        "\n",
        "# Assign X and y\n",
        "X_s1 = bag_of_words[bag_of_words.index.isin(l_s1)]\n",
        "y_s1 = df_s1['hotel_name']\n",
        "X_s2 = bag_of_words[bag_of_words.index.isin(l_s2)]\n",
        "y_s2 = df_s2['hotel_name']\n",
        "X_s3 = bag_of_words[bag_of_words.index.isin(l_s3)]\n",
        "y_s3 = df_s3['hotel_name']\n",
        "X_s4 = bag_of_words[bag_of_words.index.isin(l_s4)]\n",
        "y_s4 = df_s4['hotel_name']\n",
        "\n",
        "# Train test split X and y\n",
        "X_s1_train, X_s1_test, y_s1_train, y_s1_test = train_test_split(X_s1, y_s1, test_size=0.20, random_state=30)\n",
        "X_s2_train, X_s2_test, y_s2_train, y_s2_test = train_test_split(X_s2, y_s2, test_size=0.20, random_state=30)\n",
        "X_s3_train, X_s3_test, y_s3_train, y_s3_test = train_test_split(X_s3, y_s3, test_size=0.20, random_state=30)\n",
        "X_s4_train, X_s4_test, y_s4_train, y_s4_test = train_test_split(X_s4, y_s4, test_size=0.20, random_state=30)\n",
        "\n",
        "# Declare the classifiers\n",
        "clf_s1 = RandomForestClassifier(min_samples_leaf=3, random_state=8675309)\n",
        "clf_s2 = RandomForestClassifier(min_samples_leaf=3, random_state=8675309)\n",
        "clf_s3 = RandomForestClassifier(min_samples_leaf=3, random_state=8675309)\n",
        "clf_s4 = RandomForestClassifier(min_samples_leaf=3, random_state=8675309)\n",
        "\n",
        "X_s1.shape, X_s2.shape, X_s3.shape, X_s4.shape, y_s1.shape, y_s2.shape, y_s3.shape, y_s4.shape\n",
        "\n",
        "X_s1_train.shape, X_s2_train.shape, X_s3_train.shape, X_s4_train.shape, X_s1_test.shape, X_s2_test.shape, X_s3_test.shape, X_s4_test.shape\n",
        "\n",
        "y_s1_train.shape, y_s2_train.shape, y_s3_train.shape, y_s4_train.shape, y_s1_test.shape, y_s2_test.shape, y_s3_test.shape, y_s4_test.shape\n",
        "\n",
        "# Fit the model to the data\n",
        "clf_s1.fit(X_s1_train,y_s1_train)\n",
        "y_s1_pred = clf_s1.predict(X_s1_test)\n",
        "\n",
        "print(accuracy_score(y_s1_test, y_s1_pred))\n",
        "\n",
        "clf_s2.fit(X_s2_train,y_s2_train)\n",
        "y_s2_pred = clf_s2.predict(X_s2_test)\n",
        "\n",
        "print(accuracy_score(y_s2_test, y_s2_pred))\n",
        "\n",
        "clf_s3.fit(X_s3_train,y_s3_train)\n",
        "y_s3_pred = clf_s3.predict(X_s3_test)\n",
        "\n",
        "print(accuracy_score(y_s3_test, y_s3_pred))\n",
        "\n",
        "clf_s4.fit(X_s4_train,y_s4_train)\n",
        "y_s4_pred = clf_s4.predict(X_s4_test)\n",
        "\n",
        "print(accuracy_score(y_s4_test, y_s4_pred))"
      ],
      "execution_count": 20,
      "outputs": [
        {
          "output_type": "stream",
          "text": [
            "/usr/local/lib/python3.6/dist-packages/sklearn/ensemble/forest.py:245: FutureWarning: The default value of n_estimators will change from 10 in version 0.20 to 100 in 0.22.\n",
            "  \"10 in version 0.20 to 100 in 0.22.\", FutureWarning)\n"
          ],
          "name": "stderr"
        },
        {
          "output_type": "stream",
          "text": [
            "0.18001800180018002\n"
          ],
          "name": "stdout"
        },
        {
          "output_type": "stream",
          "text": [
            "/usr/local/lib/python3.6/dist-packages/sklearn/ensemble/forest.py:245: FutureWarning: The default value of n_estimators will change from 10 in version 0.20 to 100 in 0.22.\n",
            "  \"10 in version 0.20 to 100 in 0.22.\", FutureWarning)\n"
          ],
          "name": "stderr"
        },
        {
          "output_type": "stream",
          "text": [
            "0.19466584917228694\n"
          ],
          "name": "stdout"
        },
        {
          "output_type": "stream",
          "text": [
            "/usr/local/lib/python3.6/dist-packages/sklearn/ensemble/forest.py:245: FutureWarning: The default value of n_estimators will change from 10 in version 0.20 to 100 in 0.22.\n",
            "  \"10 in version 0.20 to 100 in 0.22.\", FutureWarning)\n"
          ],
          "name": "stderr"
        },
        {
          "output_type": "stream",
          "text": [
            "0.184537505752416\n"
          ],
          "name": "stdout"
        },
        {
          "output_type": "stream",
          "text": [
            "/usr/local/lib/python3.6/dist-packages/sklearn/ensemble/forest.py:245: FutureWarning: The default value of n_estimators will change from 10 in version 0.20 to 100 in 0.22.\n",
            "  \"10 in version 0.20 to 100 in 0.22.\", FutureWarning)\n"
          ],
          "name": "stderr"
        },
        {
          "output_type": "stream",
          "text": [
            "0.2036673215455141\n"
          ],
          "name": "stdout"
        }
      ]
    },
    {
      "cell_type": "code",
      "metadata": {
        "id": "fpNfd6UzCUSk",
        "colab_type": "code",
        "colab": {
          "base_uri": "https://localhost:8080/",
          "height": 34
        },
        "outputId": "34100ee3-bf10-4bbc-8044-cb8676b81f2c"
      },
      "source": [
        "# New Predictions\n",
        "# Reinitialize and refit the vectorizer with the vocabulary\n",
        "vectorizer = TfidfVectorizer(max_features=None, vocabulary=vocab, stop_words='english', ngram_range=(1, 3))\n",
        "X = vectorizer.fit_transform(df['reviews.text'])\n",
        "\n",
        "# Create a review to feed the model\n",
        "test_review = 'I loved the beach, the nearby bars, the live music, and the walkable neighborhood#@!$?@#!. The weather was great and it was sunny.'\n",
        "\n",
        "# Test season has to match case perfectly - use dropdown from website\n",
        "test_season = 'Fall'\n",
        "\n",
        "# Clean the text and convert your test review into a vector.\n",
        "test_review = test_review.lower()\n",
        "test_review = re.sub('[^A-Za-z0-9]+', ' ', test_review)\n",
        "test_review = [test_review]\n",
        "X_test = vectorizer.transform(test_review).toarray()\n",
        "print(test_review)"
      ],
      "execution_count": 21,
      "outputs": [
        {
          "output_type": "stream",
          "text": [
            "['i loved the beach the nearby bars the live music and the walkable neighborhood the weather was great and it was sunny ']\n"
          ],
          "name": "stdout"
        }
      ]
    },
    {
      "cell_type": "code",
      "metadata": {
        "id": "iraun71kChGi",
        "colab_type": "code",
        "colab": {}
      },
      "source": [
        "#Prediction Function\n",
        "def make_prediction(season):\n",
        "    global X_test\n",
        "    global prediction\n",
        "    if test_season == 'Spring':\n",
        "        prediction = clf_s1.predict(X_test)[0]\n",
        "    elif test_season == 'Summer':\n",
        "        prediction = clf_s2.predict(X_test)[0]\n",
        "    elif test_season == 'Fall':\n",
        "        prediction = clf_s3.predict(X_test)[0]\n",
        "    else:\n",
        "        prediction = clf_s4.predict(X_test)[0]\n",
        "    return df[df['hotel_name'] == prediction][['hotel_name', 'hotel_address']].head(1)"
      ],
      "execution_count": 0,
      "outputs": []
    },
    {
      "cell_type": "code",
      "metadata": {
        "id": "UHoQ6WwwCkUa",
        "colab_type": "code",
        "colab": {
          "base_uri": "https://localhost:8080/",
          "height": 51
        },
        "outputId": "8b501efb-a70b-4343-af84-b05d75624da0"
      },
      "source": [
        "#Test the Function\n",
        "print(make_prediction(test_season))"
      ],
      "execution_count": 23,
      "outputs": [
        {
          "output_type": "stream",
          "text": [
            "                                        hotel_name      hotel_address\n",
            "26765  Hampton Inn Virginia Beach Oceanfront North  3107 Atlantic Ave\n"
          ],
          "name": "stdout"
        }
      ]
    },
    {
      "cell_type": "code",
      "metadata": {
        "id": "JShMovLKCnLu",
        "colab_type": "code",
        "colab": {
          "base_uri": "https://localhost:8080/",
          "height": 51
        },
        "outputId": "4a059f40-4c6d-482e-d3ef-58fe3061d639"
      },
      "source": [
        "#Test 1\n",
        "test_review = 'This was an amazing spot to go hiking. The crowd was young and the food was delicious.'\n",
        "test_season = 'Fall'\n",
        "\n",
        "# Clean the text and convert your test review into a vector.\n",
        "test_review = test_review.lower()\n",
        "test_review = re.sub('[^A-Za-z0-9]+', ' ', test_review)\n",
        "test_review = [test_review]\n",
        "\n",
        "X_test = vectorizer.transform(test_review).toarray()\n",
        "print(make_prediction(test_season))"
      ],
      "execution_count": 24,
      "outputs": [
        {
          "output_type": "stream",
          "text": [
            "                                 hotel_name hotel_address\n",
            "4744  The Alexandrian, Autograph Collection   480 King St\n"
          ],
          "name": "stdout"
        }
      ]
    },
    {
      "cell_type": "code",
      "metadata": {
        "id": "yGg8HPcqCvq0",
        "colab_type": "code",
        "colab": {
          "base_uri": "https://localhost:8080/",
          "height": 51
        },
        "outputId": "3d3b07bb-e222-49ec-98d4-2c9b60d3a2b8"
      },
      "source": [
        "# Test 2 \n",
        "test_review = 'I loved the fishing. It was a relaxing vacation and this hotel really lived up to its reputation.'\n",
        "test_season = 'Summer'\n",
        "\n",
        "# Clean the text and convert your test review into a vector.\n",
        "test_review = test_review.lower()\n",
        "test_review = re.sub('[^A-Za-z0-9]+', ' ', test_review)\n",
        "test_review = [test_review]\n",
        "\n",
        "X_test = vectorizer.transform(test_review).toarray()\n",
        "print(make_prediction(test_season))"
      ],
      "execution_count": 25,
      "outputs": [
        {
          "output_type": "stream",
          "text": [
            "      hotel_name     hotel_address\n",
            "3422  Hotel Emma  136 E Grayson St\n"
          ],
          "name": "stdout"
        }
      ]
    },
    {
      "cell_type": "code",
      "metadata": {
        "id": "pYlLHSAzC0U5",
        "colab_type": "code",
        "colab": {
          "base_uri": "https://localhost:8080/",
          "height": 51
        },
        "outputId": "cb3941cc-3bc6-4ced-d9b8-ca0221087dc4"
      },
      "source": [
        "# Test 3\n",
        "test_review = 'Fun for the whole family. The area had a lot of activities for children which adults could enjoy too.'\n",
        "test_season = 'Fall'\n",
        "\n",
        "# Clean the text and convert your test review into a vector.\n",
        "test_review = test_review.lower()\n",
        "test_review = re.sub('[^A-Za-z0-9]+', ' ', test_review)\n",
        "test_review = [test_review]\n",
        "\n",
        "X_test = vectorizer.transform(test_review).toarray()\n",
        "print(make_prediction(test_season))"
      ],
      "execution_count": 26,
      "outputs": [
        {
          "output_type": "stream",
          "text": [
            "                 hotel_name    hotel_address\n",
            "20565  Ip Casino Resort Spa  850 Bayview Ave\n"
          ],
          "name": "stdout"
        }
      ]
    },
    {
      "cell_type": "code",
      "metadata": {
        "id": "AwFoo4YFC42j",
        "colab_type": "code",
        "colab": {}
      },
      "source": [
        "#Now let's save the model for live predictions\n",
        "test_review = 'The snow was incredible. Fresh powder, skiing, snowboarding, jacuzzis at night. This hotel was right by the ski lift which made for quick access to the mountain.'\n",
        "test_season = 'Winter'\n",
        "\n",
        "def suggest_destination(review, season):\n",
        "    review = review.lower()\n",
        "    review = re.sub('[^A-Za-z0-9]+', ' ', review)\n",
        "    review = [review]\n",
        "    X_test = vectorizer.transform(review).toarray()\n",
        "    if season == 'Spring':\n",
        "        prediction = clf_s1.predict(X_test)[0]\n",
        "    elif season == 'Summer':\n",
        "        prediction = clf_s2.predict(X_test)[0]\n",
        "    elif season == 'Fall':\n",
        "        prediction = clf_s3.predict(X_test)[0]\n",
        "    else:\n",
        "        prediction = clf_s4.predict(X_test)[0]\n",
        "    df_answer = df[df['hotel_name'] == prediction][['hotel_name', 'hotel_address']].head(1)\n",
        "    df_answer = df_answer.reset_index(drop=True)\n",
        "    answer = df_answer['hotel_name'][0], df_answer['hotel_address'][0]\n",
        "    url_str = str(answer[0]).replace(\" \", \"%20\")+\"_\"+str(answer[1]).replace(\" \", \"%20\")\n",
        "    url = \"https://www.google.com/search?q={}\".format(url_str)\n",
        "    return answer, url\n",
        "    answer, url = suggest_destination(test_review, test_season)\n"
      ],
      "execution_count": 0,
      "outputs": []
    },
    {
      "cell_type": "code",
      "metadata": {
        "id": "D5f3HjrxDWPo",
        "colab_type": "code",
        "colab": {
          "base_uri": "https://localhost:8080/",
          "height": 34
        },
        "outputId": "e39636ca-7cb5-4e06-a726-4a79b5987a40"
      },
      "source": [
        "#Pickle the model\n",
        "start = time.time()\n",
        "\n",
        "# Pickle out the trained models\n",
        "pickle_out_s1 = open(\"clf_s1.pickle\",\"wb\")\n",
        "pickle.dump(clf_s1, pickle_out_s1, protocol=0)\n",
        "pickle_out_s1.close()\n",
        "\n",
        "# Pickle out the trained models\n",
        "pickle_out_s2 = open(\"clf_s2.pickle\",\"wb\")\n",
        "pickle.dump(clf_s2, pickle_out_s2, protocol=0)\n",
        "pickle_out_s2.close()\n",
        "\n",
        "# Pickle out the trained models\n",
        "pickle_out_s3 = open(\"clf_s3.pickle\",\"wb\")\n",
        "pickle.dump(clf_s3, pickle_out_s3, protocol=0)\n",
        "pickle_out_s3.close()\n",
        "\n",
        "# Pickle out the trained models\n",
        "pickle_out_s4 = open(\"clf_s4.pickle\",\"wb\")\n",
        "pickle.dump(clf_s4, pickle_out_s4, protocol=0)\n",
        "pickle_out_s4.close()\n",
        "\n",
        "# Pickle out the fitted vectorizer\n",
        "pickle_vec_out = open(\"vectorizer.pickle\",\"wb\")\n",
        "pickle.dump(vectorizer, pickle_vec_out, protocol=0)\n",
        "pickle_vec_out.close()\n",
        "\n",
        "end=time.time()\n",
        "print(end-start)"
      ],
      "execution_count": 29,
      "outputs": [
        {
          "output_type": "stream",
          "text": [
            "3.112973213195801\n"
          ],
          "name": "stdout"
        }
      ]
    }
  ]
}