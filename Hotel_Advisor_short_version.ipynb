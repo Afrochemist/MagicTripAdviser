{
  "nbformat": 4,
  "nbformat_minor": 0,
  "metadata": {
    "colab": {
      "name": "Hotel_Advisor_short_version.ipynb",
      "provenance": [],
      "collapsed_sections": [],
      "machine_shape": "hm"
    },
    "kernelspec": {
      "name": "python3",
      "display_name": "Python 3"
    },
    "accelerator": "GPU"
  },
  "cells": [
    {
      "cell_type": "markdown",
      "metadata": {
        "id": "view-in-github",
        "colab_type": "text"
      },
      "source": [
        "<a href=\"https://colab.research.google.com/github/Afrochemist/MagicTripAdviser/blob/master/Hotel_Advisor.ipynb\" target=\"_parent\"><img src=\"https://colab.research.google.com/assets/colab-badge.svg\" alt=\"Open In Colab\"/></a>"
      ]
    },
    {
      "cell_type": "code",
      "metadata": {
        "id": "t645Lfs35rSQ",
        "colab_type": "code",
        "colab": {}
      },
      "source": [
        "# Import modules\n",
        "import pandas as pd\n",
        "from scipy import sparse\n",
        "from sklearn.feature_extraction.text import TfidfVectorizer, CountVectorizer\n",
        "from sklearn.ensemble import RandomForestClassifier\n",
        "from sklearn.model_selection import train_test_split\n",
        "from sklearn.metrics import accuracy_score, confusion_matrix\n",
        "import re\n",
        "import pickle"
      ],
      "execution_count": 0,
      "outputs": []
    },
    {
      "cell_type": "code",
      "metadata": {
        "id": "7OA2s6OT5Yaq",
        "colab_type": "code",
        "outputId": "72e5ebc1-54c7-402b-cd79-733973f5f49f",
        "colab": {
          "base_uri": "https://localhost:8080/",
          "height": 34
        }
      },
      "source": [
        "# Mount the Drive in Google Colab\n",
        "# Remove this code if not in Google Colab\n",
        "from google.colab import drive\n",
        "drive.mount(\"/content/drive\", force_remount=True)"
      ],
      "execution_count": 2,
      "outputs": [
        {
          "output_type": "stream",
          "text": [
            "Mounted at /content/drive\n"
          ],
          "name": "stdout"
        }
      ]
    },
    {
      "cell_type": "code",
      "metadata": {
        "id": "xFvj2Pwm5qZu",
        "colab_type": "code",
        "colab": {}
      },
      "source": [
        "# Create filepath variable for data location in google drive.\n",
        "filepath = '/content/drive/My Drive/magical/'\n",
        "clf_s1_pickle = filepath + 'clf_s1.pickle'\n",
        "clf_s2_pickle = filepath + 'clf_s2.pickle'\n",
        "clf_s3_pickle = filepath + 'clf_s3.pickle'\n",
        "clf_s4_pickle = filepath + 'clf_s4.pickle'\n",
        "vectorizer_pickle = filepath + 'vectorizer.pickle'\n",
        "#data_dir =  '/content/drive/My Drive/ML Data/Final Project/Datafiniti_Hotel_Reviews_Jun19.csv'\n",
        "#data_dir_2 = '/content/drive/My Drive/ML Data/Final Project/7282_1.csv'"
      ],
      "execution_count": 0,
      "outputs": []
    },
    {
      "cell_type": "code",
      "metadata": {
        "id": "VkV6-KDXy34F",
        "colab_type": "code",
        "colab": {
          "base_uri": "https://localhost:8080/",
          "height": 173
        },
        "outputId": "6b9032e6-6df5-404d-a76d-499dddad8ece"
      },
      "source": [
        "with open(clf_s1_pickle, mode=\"rb\") as f:\n",
        "    clf_s1 = pickle.load(f)\n",
        "with open(clf_s2_pickle, mode=\"rb\") as f:\n",
        "    clf_s2 = pickle.load(f)\n",
        "with open(clf_s3_pickle, mode=\"rb\") as f:\n",
        "    clf_s3 = pickle.load(f)\n",
        "with open(clf_s4_pickle, mode=\"rb\") as f:\n",
        "    clf_s4 = pickle.load(f)\n",
        "with open(vectorizer_pickle, mode=\"rb\") as f:\n",
        "    vectorizer = pickle.load(f)"
      ],
      "execution_count": 5,
      "outputs": [
        {
          "output_type": "stream",
          "text": [
            "/usr/local/lib/python3.6/dist-packages/sklearn/base.py:306: UserWarning: Trying to unpickle estimator DecisionTreeClassifier from version 0.20.3 when using version 0.21.3. This might lead to breaking code or invalid results. Use at your own risk.\n",
            "  UserWarning)\n",
            "/usr/local/lib/python3.6/dist-packages/sklearn/base.py:306: UserWarning: Trying to unpickle estimator RandomForestClassifier from version 0.20.3 when using version 0.21.3. This might lead to breaking code or invalid results. Use at your own risk.\n",
            "  UserWarning)\n",
            "/usr/local/lib/python3.6/dist-packages/sklearn/base.py:306: UserWarning: Trying to unpickle estimator TfidfTransformer from version 0.20.3 when using version 0.21.3. This might lead to breaking code or invalid results. Use at your own risk.\n",
            "  UserWarning)\n",
            "/usr/local/lib/python3.6/dist-packages/sklearn/base.py:306: UserWarning: Trying to unpickle estimator TfidfVectorizer from version 0.20.3 when using version 0.21.3. This might lead to breaking code or invalid results. Use at your own risk.\n",
            "  UserWarning)\n"
          ],
          "name": "stderr"
        }
      ]
    },
    {
      "cell_type": "code",
      "metadata": {
        "id": "sUKvBui-5xzK",
        "colab_type": "code",
        "colab": {}
      },
      "source": [
        "\n",
        "#Prediction Function\n",
        "def make_prediction(season):\n",
        "    global X_test\n",
        "    global prediction\n",
        "    if test_season == 'Spring':\n",
        "        prediction = clf_s1.predict(X_test)[0]\n",
        "    elif test_season == 'Summer':\n",
        "        prediction = clf_s2.predict(X_test)[0]\n",
        "    elif test_season == 'Fall':\n",
        "        prediction = clf_s3.predict(X_test)[0]\n",
        "    else:\n",
        "        prediction = clf_s4.predict(X_test)[0]\n",
        "    #return df[df['hotel_name'] == prediction][['hotel_name', 'hotel_address']].head(1)\n",
        "    return prediction"
      ],
      "execution_count": 0,
      "outputs": []
    },
    {
      "cell_type": "markdown",
      "metadata": {
        "id": "uf7rpZ7G5i5h",
        "colab_type": "text"
      },
      "source": [
        ""
      ]
    },
    {
      "cell_type": "code",
      "metadata": {
        "id": "JShMovLKCnLu",
        "colab_type": "code",
        "outputId": "6062f8e9-1532-4c5c-d42a-dd2a0a807333",
        "colab": {
          "base_uri": "https://localhost:8080/",
          "height": 34
        }
      },
      "source": [
        "#Test 1\n",
        "test_review = 'This was an amazing spot to go hiking. The crowd was young and the food was delicious.'\n",
        "test_season = 'Fall'\n",
        "\n",
        "# Clean the text and convert your test review into a vector.\n",
        "test_review = test_review.lower()\n",
        "test_review = re.sub('[^A-Za-z0-9]+', ' ', test_review)\n",
        "test_review = [test_review]\n",
        "\n",
        "X_test = vectorizer.transform(test_review).toarray()\n",
        "print(make_prediction(test_season))"
      ],
      "execution_count": 10,
      "outputs": [
        {
          "output_type": "stream",
          "text": [
            "Hotel Mc Call\n"
          ],
          "name": "stdout"
        }
      ]
    },
    {
      "cell_type": "code",
      "metadata": {
        "id": "yGg8HPcqCvq0",
        "colab_type": "code",
        "outputId": "89b0f2ce-3250-44e3-9abf-4e240fbe6683",
        "colab": {
          "base_uri": "https://localhost:8080/",
          "height": 34
        }
      },
      "source": [
        "# Test 2 \n",
        "test_review = 'I loved the fishing. It was a relaxing vacation and this hotel really lived up to its reputation.'\n",
        "test_season = 'Summer'\n",
        "\n",
        "# Clean the text and convert your test review into a vector.\n",
        "test_review = test_review.lower()\n",
        "test_review = re.sub('[^A-Za-z0-9]+', ' ', test_review)\n",
        "test_review = [test_review]\n",
        "\n",
        "X_test = vectorizer.transform(test_review).toarray()\n",
        "print(make_prediction(test_season))"
      ],
      "execution_count": 11,
      "outputs": [
        {
          "output_type": "stream",
          "text": [
            "Excellence Riviera Cancun - Adults Only - All Inclusive\n"
          ],
          "name": "stdout"
        }
      ]
    },
    {
      "cell_type": "code",
      "metadata": {
        "id": "pYlLHSAzC0U5",
        "colab_type": "code",
        "outputId": "323b3fb2-6472-4704-db04-01300bc4b234",
        "colab": {
          "base_uri": "https://localhost:8080/",
          "height": 34
        }
      },
      "source": [
        "# Test 3\n",
        "test_review = 'Fun for the whole family. The area had a lot of activities for children which adults could enjoy too.'\n",
        "test_season = 'Fall'\n",
        "\n",
        "test_review = test_review.lower()\n",
        "test_review = re.sub('[^A-Za-z0-9]+', ' ', test_review)\n",
        "test_review = [test_review]\n",
        "\n",
        "X_test = vectorizer.transform(test_review).toarray()\n",
        "print(make_prediction(test_season))\n",
        "\n"
      ],
      "execution_count": 12,
      "outputs": [
        {
          "output_type": "stream",
          "text": [
            "Residence Inn By Marriott Hartford Downtown\n"
          ],
          "name": "stdout"
        }
      ]
    }
  ]
}